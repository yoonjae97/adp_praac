{
 "cells": [
  {
   "cell_type": "markdown",
   "metadata": {},
   "source": [
    "# Chisquare test?\n",
    "- 설명변수가 범주형 변수인 경우 사용하는 통제 기법\n",
    "- 데이터의 각 범주에 따른 결과 변수의 분포를 설명하거나\n",
    "- 범주형 변수가 두 개 이상인 경우 두 변수의 상관 여부를 검정하는 것이 목적"
   ]
  },
  {
   "cell_type": "markdown",
   "metadata": {},
   "source": [
    "-----------------"
   ]
  },
  {
   "cell_type": "markdown",
   "metadata": {},
   "source": [
    "## 교차분석\n",
    "- 교차표를 통해 각 셀의 관찰빈도와 기대빈도 간의 차이를 검정하는 기법\n",
    "- 관찰빈도 : 자료로부터 얻은 빈도분포\n",
    "- 기대빈도 : 두 변수가 독립일 때 이론적으로 기대할 수 있는 빈도 분포\n",
    "\n",
    "## 카이제곱 검정\n",
    "- 카이제곱 검정은 검정 목적에 따라 사용되는 3가지 검정이 있다\n",
    "\n",
    "1. 적합성 검정\n",
    "- 각 범주에 따른 데이터의 빈도분포가 이론적으로 기대하는 분포를 따르는가를 검정하는 방법\n",
    "- ex. 주사위를 굴렸을 때, 각 주사위의 값이 1/6인지를 검정\n",
    "- scipy.stats.chisquare(f_obs, f_exp=None, ddof=0, axis=0)을 이용\n",
    "- f_obs는 데이터 관찰빈도 입력, f_exp는 각 범주의 기대 빈도\n",
    "\n",
    "#### 가설수립\n",
    "- 귀무가설 : 타이타닉 생존자 중 남, 여의 비율은 각각 50%이다\n",
    "- 대립가설 : 타이타닉 생존자 중 남, 여의 비율이 각 50%라고 할 수 없다"
   ]
  },
  {
   "cell_type": "code",
   "execution_count": 1,
   "metadata": {},
   "outputs": [
    {
     "name": "stdout",
     "output_type": "stream",
     "text": [
      "<class 'pandas.core.frame.DataFrame'>\n",
      "RangeIndex: 891 entries, 0 to 890\n",
      "Data columns (total 11 columns):\n",
      " #   Column       Non-Null Count  Dtype  \n",
      "---  ------       --------------  -----  \n",
      " 0   survived     891 non-null    int64  \n",
      " 1   pclass       891 non-null    int64  \n",
      " 2   sex          891 non-null    object \n",
      " 3   age          714 non-null    float64\n",
      " 4   sibsp        891 non-null    int64  \n",
      " 5   parch        891 non-null    int64  \n",
      " 6   fare         891 non-null    float64\n",
      " 7   embarked     889 non-null    object \n",
      " 8   class        891 non-null    object \n",
      " 9   adult_male   891 non-null    bool   \n",
      " 10  embark_town  889 non-null    object \n",
      "dtypes: bool(1), float64(2), int64(4), object(4)\n",
      "memory usage: 70.6+ KB\n"
     ]
    }
   ],
   "source": [
    "import pandas as pd\n",
    "\n",
    "df = pd.read_csv(\"https://raw.githubusercontent.com/ADPclass/ADP_book_ver01/main/data/titanic.csv\")\n",
    "df.info()"
   ]
  },
  {
   "cell_type": "code",
   "execution_count": 2,
   "metadata": {},
   "outputs": [
    {
     "data": {
      "text/plain": [
       "sex   \n",
       "female    233\n",
       "male      109\n",
       "Name: count, dtype: int64"
      ]
     },
     "execution_count": 2,
     "metadata": {},
     "output_type": "execute_result"
    }
   ],
   "source": [
    "df_t = df[df['survived']==1]\n",
    "table = df_t[['sex']].value_counts()\n",
    "table"
   ]
  },
  {
   "cell_type": "code",
   "execution_count": 3,
   "metadata": {},
   "outputs": [
    {
     "name": "stdout",
     "output_type": "stream",
     "text": [
      "적합성 검정 Power_divergenceResult(statistic=44.95906432748538, pvalue=2.011967257447723e-11)\n"
     ]
    }
   ],
   "source": [
    "from scipy.stats import chisquare\n",
    "\n",
    "chi = chisquare(table, f_exp=[171, 171])\n",
    "print('적합성 검정', chi)"
   ]
  },
  {
   "cell_type": "markdown",
   "metadata": {},
   "source": [
    "- p-value 값이 유의수준 0.05보다 작으므로 귀무가설을 기각한다.\n",
    "- 따라서 타이타닉의 생존자 중 남, 여의 비율은 50대 50이라고 할 수 없다"
   ]
  },
  {
   "cell_type": "markdown",
   "metadata": {},
   "source": [
    "2. 독립성 검정\n",
    "- 모집단이 두 개의 변수 A, B에 의해 범주화되었을 때 두 변수들 간의 관계가 독립인지 검정하는 방법\n",
    "- scipy.stats.chi2_contigency((observed, correction=True, lambda_=None))를 사용\n",
    "- observed 데이터의 관찰빈도, chi2 카이제곱 통계량 값, p p-value, dof 자유도, expected 기대빈도\n",
    "\n",
    "#### 가설수립\n",
    "- 귀무가설 : class와 survived는 독립이다\n",
    "- 대립가설 : class와 survived는 독립이 아니다"
   ]
  },
  {
   "cell_type": "code",
   "execution_count": 4,
   "metadata": {},
   "outputs": [
    {
     "data": {
      "text/html": [
       "<div>\n",
       "<style scoped>\n",
       "    .dataframe tbody tr th:only-of-type {\n",
       "        vertical-align: middle;\n",
       "    }\n",
       "\n",
       "    .dataframe tbody tr th {\n",
       "        vertical-align: top;\n",
       "    }\n",
       "\n",
       "    .dataframe thead th {\n",
       "        text-align: right;\n",
       "    }\n",
       "</style>\n",
       "<table border=\"1\" class=\"dataframe\">\n",
       "  <thead>\n",
       "    <tr style=\"text-align: right;\">\n",
       "      <th>survived</th>\n",
       "      <th>0</th>\n",
       "      <th>1</th>\n",
       "    </tr>\n",
       "    <tr>\n",
       "      <th>class</th>\n",
       "      <th></th>\n",
       "      <th></th>\n",
       "    </tr>\n",
       "  </thead>\n",
       "  <tbody>\n",
       "    <tr>\n",
       "      <th>First</th>\n",
       "      <td>80</td>\n",
       "      <td>136</td>\n",
       "    </tr>\n",
       "    <tr>\n",
       "      <th>Second</th>\n",
       "      <td>97</td>\n",
       "      <td>87</td>\n",
       "    </tr>\n",
       "    <tr>\n",
       "      <th>Third</th>\n",
       "      <td>372</td>\n",
       "      <td>119</td>\n",
       "    </tr>\n",
       "  </tbody>\n",
       "</table>\n",
       "</div>"
      ],
      "text/plain": [
       "survived    0    1\n",
       "class             \n",
       "First      80  136\n",
       "Second     97   87\n",
       "Third     372  119"
      ]
     },
     "execution_count": 4,
     "metadata": {},
     "output_type": "execute_result"
    }
   ],
   "source": [
    "table = pd.crosstab(df['class'], df['survived'])\n",
    "table"
   ]
  },
  {
   "cell_type": "code",
   "execution_count": 5,
   "metadata": {},
   "outputs": [
    {
     "name": "stdout",
     "output_type": "stream",
     "text": [
      "statistic : 102.88898875696056\n",
      "p-value :  4.549251711298793e-23\n",
      "df : 2\n",
      "expect : [[133.09090909  82.90909091]\n",
      " [113.37373737  70.62626263]\n",
      " [302.53535354 188.46464646]]\n"
     ]
    }
   ],
   "source": [
    "from scipy.stats import chi2_contingency\n",
    "\n",
    "chi, p, df, expect = chi2_contingency(table)\n",
    "print(f'statistic : {chi}')\n",
    "print(f'p-value :  {p}')\n",
    "print(f'df : {df}')\n",
    "print(f'expect : {expect}')"
   ]
  },
  {
   "cell_type": "markdown",
   "metadata": {},
   "source": [
    "- 분석결과 p-value의 값의 유의수준 0.05보다 낮으므로 귀무가설을 기각한다\n",
    "- 좌석등급과 생존은 독립이 아니라고 할 수 있다"
   ]
  },
  {
   "cell_type": "markdown",
   "metadata": {},
   "source": [
    "3. 동질성 검정\n",
    "- 모집단이 임의의 변수에 따라 R개의 속성으로 범주화 되었을 때,\n",
    "- R개의 부분 모집단에서 추출한 표본이 C개의 범주화된 집단의 분포와 서로 동일한지를 검정\n",
    "- 독립성 검정과 계산법, 검정 방법은 같다\n",
    "\n",
    "#### 가설수립\n",
    "- 귀무가설 : class의 분포는 survived에 상관없이 동일하다\n",
    "- 대립가설 : class의 분포는 survived에 상관없이 동일하지 않다"
   ]
  }
 ],
 "metadata": {
  "kernelspec": {
   "display_name": "Python 3",
   "language": "python",
   "name": "python3"
  },
  "language_info": {
   "codemirror_mode": {
    "name": "ipython",
    "version": 3
   },
   "file_extension": ".py",
   "mimetype": "text/x-python",
   "name": "python",
   "nbconvert_exporter": "python",
   "pygments_lexer": "ipython3",
   "version": "3.8.0"
  }
 },
 "nbformat": 4,
 "nbformat_minor": 2
}
