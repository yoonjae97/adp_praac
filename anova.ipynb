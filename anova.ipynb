{
 "cells": [
  {
   "cell_type": "markdown",
   "metadata": {},
   "source": [
    "## 분산분석(ANOVA)\n",
    "- 분산분석은 두 개 이상의 다수 집단 간 평균을 비교하는 통계분석\n",
    "- 종속변수는 연속형, 독립변수는 범주형이여야 한다.\n",
    "- 개수에 따라 일원배치, 이원배치, 다원배치 분산분석으로 나눠진다.\n"
   ]
  },
  {
   "cell_type": "markdown",
   "metadata": {},
   "source": [
    "-------"
   ]
  },
  {
   "cell_type": "markdown",
   "metadata": {},
   "source": [
    "### 일원배치 분산분석(One-way ANOVA)\n",
    "- 반응값에 대한 하나의 범주형 변수의 영향을 알아보기 위해 사용되는 검증 방법\n",
    "- 모집단의 수에는 제한이 없고, 각 표본의 수는 같지 않아도 된다.\n",
    "- F 검정 통계량을 이용한다.\n",
    "\n",
    "#### F-value\n",
    "- 집단 간 평균 제곱 = 집단 간 제곱합 / 자유도(집단수 - 1)\n",
    "- 집단 내 평균 제곱 = 집단 내 제곱합 / 자유도(자료수 - 집단 수)\n",
    "- 집단 간 평균 제곱 / 집단 내 평균 제곱\n",
    "- F-value가 클수록 집단 간 평균의 차이는 크고 집단 내 평균의 차이는 작다고 볼 수 있다.\n",
    "\n",
    "#### 가정\n",
    "- 집단의 측정치는 서로 독립적이며, 정규분포를 따른다.\n",
    "- 집단 측정치의 분산은 같다.\n",
    "\n",
    "#### 가설\n",
    "- 귀무가설 : k개의 집단 간 모평균에는 차이가 없다.\n",
    "- 대립가설 : k개의 집단 간 모평균에는 차이가 있다.\n",
    "\n",
    "#### 사후검정\n",
    "- 분산분석의 결과 귀무가설이 기각되어 적어도 한 집단에서 평균의 차이가 있음이 통계적으로 증명되었을 때 (p-value < 0.05)\n",
    "- 어떤 집단들에 대해 평균의 차이가 존재하는지 알아보기 위해 실시하는 분석\n",
    "- 종류 : 던칸의 MRT, 피셔의 LSD, 튜키의 HSD 방법 등이 존재\n",
    "\n",
    "#### 단계\n",
    "1. 가설 수립\n",
    "2. 정규성 검정 -> (No) -> stats.kruskal\n",
    "3. 등분산 검정 -> (No) -> pinguin.welck_anova\n",
    "4. f-oneway 검정\n",
    "5. 사후검정"
   ]
  },
  {
   "cell_type": "code",
   "execution_count": 4,
   "metadata": {},
   "outputs": [
    {
     "data": {
      "text/html": [
       "<div>\n",
       "<style scoped>\n",
       "    .dataframe tbody tr th:only-of-type {\n",
       "        vertical-align: middle;\n",
       "    }\n",
       "\n",
       "    .dataframe tbody tr th {\n",
       "        vertical-align: top;\n",
       "    }\n",
       "\n",
       "    .dataframe thead th {\n",
       "        text-align: right;\n",
       "    }\n",
       "</style>\n",
       "<table border=\"1\" class=\"dataframe\">\n",
       "  <thead>\n",
       "    <tr style=\"text-align: right;\">\n",
       "      <th></th>\n",
       "      <th>sepal length</th>\n",
       "      <th>sepal width</th>\n",
       "      <th>petal length</th>\n",
       "      <th>petal width</th>\n",
       "      <th>target</th>\n",
       "    </tr>\n",
       "  </thead>\n",
       "  <tbody>\n",
       "    <tr>\n",
       "      <th>0</th>\n",
       "      <td>5.1</td>\n",
       "      <td>3.5</td>\n",
       "      <td>1.4</td>\n",
       "      <td>0.2</td>\n",
       "      <td>Iris-setosa</td>\n",
       "    </tr>\n",
       "    <tr>\n",
       "      <th>1</th>\n",
       "      <td>4.9</td>\n",
       "      <td>3.0</td>\n",
       "      <td>1.4</td>\n",
       "      <td>0.2</td>\n",
       "      <td>Iris-setosa</td>\n",
       "    </tr>\n",
       "    <tr>\n",
       "      <th>2</th>\n",
       "      <td>4.7</td>\n",
       "      <td>3.2</td>\n",
       "      <td>1.3</td>\n",
       "      <td>0.2</td>\n",
       "      <td>Iris-setosa</td>\n",
       "    </tr>\n",
       "    <tr>\n",
       "      <th>3</th>\n",
       "      <td>4.6</td>\n",
       "      <td>3.1</td>\n",
       "      <td>1.5</td>\n",
       "      <td>0.2</td>\n",
       "      <td>Iris-setosa</td>\n",
       "    </tr>\n",
       "    <tr>\n",
       "      <th>4</th>\n",
       "      <td>5.0</td>\n",
       "      <td>3.6</td>\n",
       "      <td>1.4</td>\n",
       "      <td>0.2</td>\n",
       "      <td>Iris-setosa</td>\n",
       "    </tr>\n",
       "  </tbody>\n",
       "</table>\n",
       "</div>"
      ],
      "text/plain": [
       "   sepal length  sepal width  petal length  petal width       target\n",
       "0           5.1          3.5           1.4          0.2  Iris-setosa\n",
       "1           4.9          3.0           1.4          0.2  Iris-setosa\n",
       "2           4.7          3.2           1.3          0.2  Iris-setosa\n",
       "3           4.6          3.1           1.5          0.2  Iris-setosa\n",
       "4           5.0          3.6           1.4          0.2  Iris-setosa"
      ]
     },
     "execution_count": 4,
     "metadata": {},
     "output_type": "execute_result"
    }
   ],
   "source": [
    "import scipy.stats as stats\n",
    "import pandas as pd\n",
    "iris_data = pd.read_csv(\"./data/iris.csv\")\n",
    "iris_data.head()"
   ]
  },
  {
   "cell_type": "code",
   "execution_count": 2,
   "metadata": {},
   "outputs": [
    {
     "data": {
      "text/plain": [
       "array(['Iris-setosa', 'Iris-versicolor', 'Iris-virginica'], dtype=object)"
      ]
     },
     "execution_count": 2,
     "metadata": {},
     "output_type": "execute_result"
    }
   ],
   "source": [
    "iris_data['target'].unique()"
   ]
  },
  {
   "cell_type": "code",
   "execution_count": 3,
   "metadata": {},
   "outputs": [
    {
     "data": {
      "text/plain": [
       "Iris-setosa        50\n",
       "Iris-versicolor    50\n",
       "Iris-virginica     50\n",
       "Name: target, dtype: int64"
      ]
     },
     "execution_count": 3,
     "metadata": {},
     "output_type": "execute_result"
    }
   ],
   "source": [
    "iris_data['target'].value_counts()"
   ]
  },
  {
   "cell_type": "code",
   "execution_count": 5,
   "metadata": {},
   "outputs": [
    {
     "name": "stdout",
     "output_type": "stream",
     "text": [
      "['Iris-setosa' 'Iris-versicolor' 'Iris-virginica']\n"
     ]
    }
   ],
   "source": [
    "target_list = iris_data['target'].unique()\n",
    "\n",
    "setosa = iris_data[iris_data['target'] == target_list[0]]['sepal width']\n",
    "versicolor = iris_data[iris_data['target'] == target_list[1]]['sepal width']\n",
    "virginica = iris_data[iris_data['target'] == target_list[2]]['sepal width']\n",
    "print(target_list)\n"
   ]
  },
  {
   "cell_type": "code",
   "execution_count": 19,
   "metadata": {},
   "outputs": [
    {
     "data": {
      "text/plain": [
       "<matplotlib.collections.PathCollection at 0x22abab60850>"
      ]
     },
     "execution_count": 19,
     "metadata": {},
     "output_type": "execute_result"
    },
    {
     "data": {
      "image/png": "[encoded data removed]",
      "text/plain": [
       "<Figure size 432x288 with 1 Axes>"
      ]
     },
     "metadata": {
      "needs_background": "light"
     },
     "output_type": "display_data"
    }
   ],
   "source": [
    "#import seaborn as sns\n",
    "import matplotlib.pyplot as plt\n",
    "\n",
    "plt.scatter(x='target', y='sepal width',\n",
    "                s=100,\n",
    "                data=iris_data)"
   ]
  },
  {
   "cell_type": "markdown",
   "metadata": {},
   "source": [
    "#### 가설 설정\n",
    "- 귀무가설 : 집단 간 sepal width의 평균은 모두 같다.\n",
    "- 대립가설 : 적어도 하나의 종에 대한 sepal width의 평균은 차이가 있다."
   ]
  },
  {
   "cell_type": "code",
   "execution_count": 21,
   "metadata": {},
   "outputs": [
    {
     "name": "stdout",
     "output_type": "stream",
     "text": [
      "ShapiroResult(statistic=0.968691885471344, pvalue=0.20465604960918427)\n",
      "ShapiroResult(statistic=0.9741330742835999, pvalue=0.33798879384994507)\n",
      "ShapiroResult(statistic=0.9673910140991211, pvalue=0.1809043288230896)\n"
     ]
    }
   ],
   "source": [
    "print(stats.shapiro(setosa))\n",
    "print(stats.shapiro(versicolor))\n",
    "print(stats.shapiro(virginica))"
   ]
  },
  {
   "cell_type": "markdown",
   "metadata": {},
   "source": [
    "- 세 집단의 데이터 모두 p-value가 0.05 이상이므로 정규성을 만족한다."
   ]
  },
  {
   "cell_type": "code",
   "execution_count": 22,
   "metadata": {},
   "outputs": [
    {
     "name": "stdout",
     "output_type": "stream",
     "text": [
      "LeveneResult(statistic=0.6475222363405327, pvalue=0.5248269975064537)\n"
     ]
    }
   ],
   "source": [
    "print(stats.levene(setosa, versicolor, virginica))"
   ]
  },
  {
   "cell_type": "markdown",
   "metadata": {},
   "source": [
    "- p-value가 0.05이상이므로 세 집단 간 분산은 같다"
   ]
  },
  {
   "cell_type": "code",
   "execution_count": 23,
   "metadata": {},
   "outputs": [
    {
     "data": {
      "text/plain": [
       "F_onewayResult(statistic=47.36446140299382, pvalue=1.3279165184572242e-16)"
      ]
     },
     "execution_count": 23,
     "metadata": {},
     "output_type": "execute_result"
    }
   ],
   "source": [
    "stats.f_oneway(setosa, versicolor, virginica)"
   ]
  },
  {
   "cell_type": "markdown",
   "metadata": {},
   "source": [
    "- p-value가 0.05보다 작으므로 집단 간 sepal width의 평균은 모두 같다는 귀무가설을 기각한다.\n",
    "- 즉 세 집단의 평균은 차이가 있다."
   ]
  },
  {
   "cell_type": "code",
   "execution_count": 8,
   "metadata": {},
   "outputs": [
    {
     "data": {
      "image/png": "[encoded data removed]",
      "text/plain": [
       "<Figure size 1000x600 with 1 Axes>"
      ]
     },
     "metadata": {},
     "output_type": "display_data"
    }
   ],
   "source": [
    "from statsmodels.stats.multicomp import pairwise_tukeyhsd, MultiComparison\n",
    "mc = MultiComparison(data=iris_data['sepal width'], groups=iris_data['target'])\n",
    "tukeyhsd = mc.tukeyhsd(alpha=0.05)\n",
    "fig = tukeyhsd.plot_simultaneous()"
   ]
  },
  {
   "cell_type": "code",
   "execution_count": 9,
   "metadata": {},
   "outputs": [
    {
     "data": {
      "text/html": [
       "<table class=\"simpletable\">\n",
       "<caption>Multiple Comparison of Means - Tukey HSD, FWER=0.05</caption>\n",
       "<tr>\n",
       "      <th>group1</th>          <th>group2</th>      <th>meandiff</th> <th>p-adj</th>  <th>lower</th>   <th>upper</th>  <th>reject</th>\n",
       "</tr>\n",
       "<tr>\n",
       "    <td>Iris-setosa</td>   <td>Iris-versicolor</td>  <td>-0.648</td>   <td>0.0</td>  <td>-0.8092</td> <td>-0.4868</td>  <td>True</td> \n",
       "</tr>\n",
       "<tr>\n",
       "    <td>Iris-setosa</td>   <td>Iris-virginica</td>   <td>-0.444</td>   <td>0.0</td>  <td>-0.6052</td> <td>-0.2828</td>  <td>True</td> \n",
       "</tr>\n",
       "<tr>\n",
       "  <td>Iris-versicolor</td> <td>Iris-virginica</td>    <td>0.204</td>  <td>0.009</td> <td>0.0428</td>  <td>0.3652</td>   <td>True</td> \n",
       "</tr>\n",
       "</table>"
      ],
      "text/latex": [
       "\\begin{center}\n",
       "\\begin{tabular}{ccccccc}\n",
       "\\toprule\n",
       "\\textbf{group1} & \\textbf{group2} & \\textbf{meandiff} & \\textbf{p-adj} & \\textbf{lower} & \\textbf{upper} & \\textbf{reject}  \\\\\n",
       "\\midrule\n",
       "  Iris-setosa   & Iris-versicolor &       -0.648      &      0.0       &    -0.8092     &    -0.4868     &       True       \\\\\n",
       "  Iris-setosa   &  Iris-virginica &       -0.444      &      0.0       &    -0.6052     &    -0.2828     &       True       \\\\\n",
       "Iris-versicolor &  Iris-virginica &       0.204       &     0.009      &     0.0428     &     0.3652     &       True       \\\\\n",
       "\\bottomrule\n",
       "\\end{tabular}\n",
       "%\\caption{Multiple Comparison of Means - Tukey HSD, FWER=0.05}\n",
       "\\end{center}"
      ],
      "text/plain": [
       "<class 'statsmodels.iolib.table.SimpleTable'>"
      ]
     },
     "execution_count": 9,
     "metadata": {},
     "output_type": "execute_result"
    }
   ],
   "source": [
    "tukeyhsd.summary()"
   ]
  },
  {
   "cell_type": "markdown",
   "metadata": {},
   "source": [
    "- 사후분석 결과 모든 비교에 대해 p-value가 0.05보다 작으므로 모든 종에 대해 평균 값은 통계적으로 유의한 차이가 있다."
   ]
  },
  {
   "cell_type": "code",
   "execution_count": 10,
   "metadata": {},
   "outputs": [
    {
     "data": {
      "text/plain": [
       "KruskalResult(statistic=62.49463010053111, pvalue=2.6882119006774528e-14)"
      ]
     },
     "execution_count": 10,
     "metadata": {},
     "output_type": "execute_result"
    }
   ],
   "source": [
    "## 만약 정규성을 만족하지 못했을 경우\n",
    "stats.kruskal(setosa, versicolor, virginica)"
   ]
  },
  {
   "cell_type": "code",
   "execution_count": 12,
   "metadata": {},
   "outputs": [
    {
     "data": {
      "text/html": [
       "<div>\n",
       "<style scoped>\n",
       "    .dataframe tbody tr th:only-of-type {\n",
       "        vertical-align: middle;\n",
       "    }\n",
       "\n",
       "    .dataframe tbody tr th {\n",
       "        vertical-align: top;\n",
       "    }\n",
       "\n",
       "    .dataframe thead th {\n",
       "        text-align: right;\n",
       "    }\n",
       "</style>\n",
       "<table border=\"1\" class=\"dataframe\">\n",
       "  <thead>\n",
       "    <tr style=\"text-align: right;\">\n",
       "      <th></th>\n",
       "      <th>Source</th>\n",
       "      <th>ddof1</th>\n",
       "      <th>ddof2</th>\n",
       "      <th>F</th>\n",
       "      <th>p-unc</th>\n",
       "      <th>np2</th>\n",
       "    </tr>\n",
       "  </thead>\n",
       "  <tbody>\n",
       "    <tr>\n",
       "      <th>0</th>\n",
       "      <td>target</td>\n",
       "      <td>2</td>\n",
       "      <td>97.369597</td>\n",
       "      <td>43.303381</td>\n",
       "      <td>3.519723e-14</td>\n",
       "      <td>0.391881</td>\n",
       "    </tr>\n",
       "  </tbody>\n",
       "</table>\n",
       "</div>"
      ],
      "text/plain": [
       "   Source  ddof1      ddof2          F         p-unc       np2\n",
       "0  target      2  97.369597  43.303381  3.519723e-14  0.391881"
      ]
     },
     "execution_count": 12,
     "metadata": {},
     "output_type": "execute_result"
    }
   ],
   "source": [
    "## 만약 등분산성을 만족하지 못했을 경우\n",
    "#!pip install pingouin\n",
    "import pingouin as pg\n",
    "pg.welch_anova(data = iris_data, dv = 'sepal width', between = 'target')"
   ]
  },
  {
   "cell_type": "markdown",
   "metadata": {},
   "source": [
    "---------------"
   ]
  },
  {
   "cell_type": "markdown",
   "metadata": {},
   "source": [
    "### 이원배치 분산분석(Two-way ANOVA)\n",
    "- 분산분석에서 하나의 종속변수(연속형)에 대한 두 개의 독립변수(범주형)에 대한 영향을 알아보기 위한 검증 방법\n",
    "- ex. 성별과 학년에 따른 시험점수 차이\n",
    "- 두 독립변수 사이에 상관관계가 있는지 살펴보는 교호작용에 대한 검증이 반드시 진행되어야 한다\n",
    "- F 검정 통계량을 이용한다.\n",
    "\n",
    "#### 가정\n",
    "- 집단의 측정치는 서로 독립적이며 정규분포를 따른다.\n",
    "- 집단 측정치의 분산은 같다.\n",
    "\n",
    "#### 가설\n",
    "- 귀무가설1 : a와 b변수의 상호작용 효과가 없다.\n",
    "- 귀무가설2 : a변수에 따른 종속변수의 값에는 차이가 없다.\n",
    "- 귀무가설3 : b변수에 따른 종속변수의 값에는 차이가 없다.\n",
    "- 대립가설1 : a와 b변수의 상호작용 효과가 있다.\n",
    "- 대립가설2 : a변수에 따른 종속변수의 값에는 차이가 있다.\n",
    "- 대립가설3 : b변수에 따른 종속변수의 값에는 차이가 있다.\n",
    "\n",
    "#### 사후검정\n",
    "- 분산분석 결과 귀무가설이 기각되어 적어도 한 집단에서 평균의 차이가 있음이 증명되었을 때 어떤 집단에서 평균의 차이가 존재하는지 알아보기 위해 시행\n",
    "\n",
    "#### 단계\n",
    "- 일원배치 분산분석과 분석 단계는 동일하나 범주형이 2개라는 점에서 가설의 차이가 존재한다."
   ]
  },
  {
   "cell_type": "code",
   "execution_count": 13,
   "metadata": {},
   "outputs": [
    {
     "data": {
      "text/html": [
       "<div>\n",
       "<style scoped>\n",
       "    .dataframe tbody tr th:only-of-type {\n",
       "        vertical-align: middle;\n",
       "    }\n",
       "\n",
       "    .dataframe tbody tr th {\n",
       "        vertical-align: top;\n",
       "    }\n",
       "\n",
       "    .dataframe thead th {\n",
       "        text-align: right;\n",
       "    }\n",
       "</style>\n",
       "<table border=\"1\" class=\"dataframe\">\n",
       "  <thead>\n",
       "    <tr style=\"text-align: right;\">\n",
       "      <th></th>\n",
       "      <th>Unnamed: 0</th>\n",
       "      <th>mpg</th>\n",
       "      <th>cyl</th>\n",
       "      <th>disp</th>\n",
       "      <th>hp</th>\n",
       "      <th>drat</th>\n",
       "      <th>wt</th>\n",
       "      <th>qsec</th>\n",
       "      <th>vs</th>\n",
       "      <th>am</th>\n",
       "      <th>gear</th>\n",
       "      <th>carb</th>\n",
       "    </tr>\n",
       "  </thead>\n",
       "  <tbody>\n",
       "    <tr>\n",
       "      <th>0</th>\n",
       "      <td>Mazda RX4</td>\n",
       "      <td>21.0</td>\n",
       "      <td>6</td>\n",
       "      <td>160.0</td>\n",
       "      <td>110</td>\n",
       "      <td>3.90</td>\n",
       "      <td>2.620</td>\n",
       "      <td>16.46</td>\n",
       "      <td>0</td>\n",
       "      <td>1</td>\n",
       "      <td>4</td>\n",
       "      <td>4</td>\n",
       "    </tr>\n",
       "    <tr>\n",
       "      <th>1</th>\n",
       "      <td>Mazda RX4 Wag</td>\n",
       "      <td>21.0</td>\n",
       "      <td>6</td>\n",
       "      <td>160.0</td>\n",
       "      <td>110</td>\n",
       "      <td>3.90</td>\n",
       "      <td>2.875</td>\n",
       "      <td>17.02</td>\n",
       "      <td>0</td>\n",
       "      <td>1</td>\n",
       "      <td>4</td>\n",
       "      <td>4</td>\n",
       "    </tr>\n",
       "    <tr>\n",
       "      <th>2</th>\n",
       "      <td>Datsun 710</td>\n",
       "      <td>22.8</td>\n",
       "      <td>4</td>\n",
       "      <td>108.0</td>\n",
       "      <td>93</td>\n",
       "      <td>3.85</td>\n",
       "      <td>2.320</td>\n",
       "      <td>18.61</td>\n",
       "      <td>1</td>\n",
       "      <td>1</td>\n",
       "      <td>4</td>\n",
       "      <td>1</td>\n",
       "    </tr>\n",
       "    <tr>\n",
       "      <th>3</th>\n",
       "      <td>Hornet 4 Drive</td>\n",
       "      <td>21.4</td>\n",
       "      <td>6</td>\n",
       "      <td>258.0</td>\n",
       "      <td>110</td>\n",
       "      <td>3.08</td>\n",
       "      <td>3.215</td>\n",
       "      <td>19.44</td>\n",
       "      <td>1</td>\n",
       "      <td>0</td>\n",
       "      <td>3</td>\n",
       "      <td>1</td>\n",
       "    </tr>\n",
       "    <tr>\n",
       "      <th>4</th>\n",
       "      <td>Hornet Sportabout</td>\n",
       "      <td>18.7</td>\n",
       "      <td>8</td>\n",
       "      <td>360.0</td>\n",
       "      <td>175</td>\n",
       "      <td>3.15</td>\n",
       "      <td>3.440</td>\n",
       "      <td>17.02</td>\n",
       "      <td>0</td>\n",
       "      <td>0</td>\n",
       "      <td>3</td>\n",
       "      <td>2</td>\n",
       "    </tr>\n",
       "  </tbody>\n",
       "</table>\n",
       "</div>"
      ],
      "text/plain": [
       "          Unnamed: 0   mpg  cyl   disp   hp  drat     wt   qsec  vs  am  gear  \\\n",
       "0          Mazda RX4  21.0    6  160.0  110  3.90  2.620  16.46   0   1     4   \n",
       "1      Mazda RX4 Wag  21.0    6  160.0  110  3.90  2.875  17.02   0   1     4   \n",
       "2         Datsun 710  22.8    4  108.0   93  3.85  2.320  18.61   1   1     4   \n",
       "3     Hornet 4 Drive  21.4    6  258.0  110  3.08  3.215  19.44   1   0     3   \n",
       "4  Hornet Sportabout  18.7    8  360.0  175  3.15  3.440  17.02   0   0     3   \n",
       "\n",
       "   carb  \n",
       "0     4  \n",
       "1     4  \n",
       "2     1  \n",
       "3     1  \n",
       "4     2  "
      ]
     },
     "execution_count": 13,
     "metadata": {},
     "output_type": "execute_result"
    }
   ],
   "source": [
    "## 변속기 종류와 실런더 개수에 따라 주행거리 평균에 유의미한 차이가 있는가에 대한 검정\n",
    "import pandas as pd\n",
    "mtcars = pd.read_csv(\"./data/mtcars.csv\")\n",
    "mtcars.head()"
   ]
  },
  {
   "cell_type": "code",
   "execution_count": 14,
   "metadata": {},
   "outputs": [
    {
     "name": "stdout",
     "output_type": "stream",
     "text": [
      "<class 'pandas.core.frame.DataFrame'>\n",
      "RangeIndex: 32 entries, 0 to 31\n",
      "Data columns (total 3 columns):\n",
      " #   Column  Non-Null Count  Dtype  \n",
      "---  ------  --------------  -----  \n",
      " 0   mpg     32 non-null     float64\n",
      " 1   am      32 non-null     int64  \n",
      " 2   cyl     32 non-null     int64  \n",
      "dtypes: float64(1), int64(2)\n",
      "memory usage: 896.0 bytes\n"
     ]
    }
   ],
   "source": [
    "mtcars = mtcars[['mpg', 'am', 'cyl']]\n",
    "mtcars.info()"
   ]
  },
  {
   "cell_type": "markdown",
   "metadata": {},
   "source": [
    "#### 가설\n",
    "\n",
    "1. 교호작용 검정\n",
    "- 귀무가설 : 변속기 종류와 실린더 개수 간에는 상호작용 효과가 없다.\n",
    "- 대립가설 : 변속기 종류와 실린더 개수 간에는 상호작용 효과가 있다.\n",
    "\n",
    "2. 주효과 검정 1\n",
    "- 귀무가설 : 실린더 개수에 따른 주행거리의 차이는 존재하지 않는다.\n",
    "- 대립가설 : 실린더 개수에 따른 주행거리의 차이는 존재한다.\n",
    "\n",
    "3. 주효과 검정 2\n",
    "- 귀무가설 : 변속기 종류에 따른 주행거리의 차이는 존재하지 않는다.\n",
    "- 대립가설 : 변속기 종류에 따른 주행거리의 차이는 존재한다."
   ]
  },
  {
   "cell_type": "code",
   "execution_count": 15,
   "metadata": {},
   "outputs": [
    {
     "data": {
      "text/html": [
       "<div>\n",
       "<style scoped>\n",
       "    .dataframe tbody tr th:only-of-type {\n",
       "        vertical-align: middle;\n",
       "    }\n",
       "\n",
       "    .dataframe tbody tr th {\n",
       "        vertical-align: top;\n",
       "    }\n",
       "\n",
       "    .dataframe thead th {\n",
       "        text-align: right;\n",
       "    }\n",
       "</style>\n",
       "<table border=\"1\" class=\"dataframe\">\n",
       "  <thead>\n",
       "    <tr style=\"text-align: right;\">\n",
       "      <th></th>\n",
       "      <th>sum_sq</th>\n",
       "      <th>df</th>\n",
       "      <th>F</th>\n",
       "      <th>PR(&gt;F)</th>\n",
       "    </tr>\n",
       "  </thead>\n",
       "  <tbody>\n",
       "    <tr>\n",
       "      <th>C(cyl)</th>\n",
       "      <td>456.400921</td>\n",
       "      <td>2.0</td>\n",
       "      <td>24.819011</td>\n",
       "      <td>9.354735e-07</td>\n",
       "    </tr>\n",
       "    <tr>\n",
       "      <th>C(am)</th>\n",
       "      <td>36.766919</td>\n",
       "      <td>1.0</td>\n",
       "      <td>3.998759</td>\n",
       "      <td>5.608373e-02</td>\n",
       "    </tr>\n",
       "    <tr>\n",
       "      <th>C(cyl):C(am)</th>\n",
       "      <td>25.436511</td>\n",
       "      <td>2.0</td>\n",
       "      <td>1.383233</td>\n",
       "      <td>2.686140e-01</td>\n",
       "    </tr>\n",
       "    <tr>\n",
       "      <th>Residual</th>\n",
       "      <td>239.059167</td>\n",
       "      <td>26.0</td>\n",
       "      <td>NaN</td>\n",
       "      <td>NaN</td>\n",
       "    </tr>\n",
       "  </tbody>\n",
       "</table>\n",
       "</div>"
      ],
      "text/plain": [
       "                  sum_sq    df          F        PR(>F)\n",
       "C(cyl)        456.400921   2.0  24.819011  9.354735e-07\n",
       "C(am)          36.766919   1.0   3.998759  5.608373e-02\n",
       "C(cyl):C(am)   25.436511   2.0   1.383233  2.686140e-01\n",
       "Residual      239.059167  26.0        NaN           NaN"
      ]
     },
     "execution_count": 15,
     "metadata": {},
     "output_type": "execute_result"
    }
   ],
   "source": [
    "from statsmodels.formula.api import ols\n",
    "from statsmodels.stats.anova import anova_lm\n",
    "formula = \"mpg ~ C(cyl) + C(am) + C(cyl):C(am)\"\n",
    "model = ols(formula, mtcars).fit()\n",
    "aov_table = anova_lm(model, typ=2)\n",
    "aov_table"
   ]
  },
  {
   "cell_type": "markdown",
   "metadata": {},
   "source": [
    "1. 교호작용 검정 해석\n",
    "- 교호작용에 대한 p-value가 0.26으로 0.05보다 크므로 교호작용이 존재하지 않는다는 귀무가설을 기각하지 않는다.\n",
    "- 교호작용이 존재하지 않을 때 나머지 주효과 검정이 의미를 갖는다.\n",
    "\n",
    "2. 주효과 검정 1 해석\n",
    "- cyl 변수에 대한 p-value는 0.05보다 작으므로 귀무가설을 기각하고 실린더 개수에 따라 주행거리 간 유의미한 차이는 존재한다고 해석할 수 있다.\n",
    "\n",
    "3. 주효과 검정 2 해석\n",
    "- am 변수에 대한 p-value는 0.056으로 0.05보다 크므로 변속기 종류에 따른 주행거리의 차이가 존재하지 않는다는 귀무가설을 기각하지 않는다."
   ]
  },
  {
   "cell_type": "code",
   "execution_count": 17,
   "metadata": {},
   "outputs": [
    {
     "data": {
      "image/png": "[encoded data removed]",
      "text/plain": [
       "<Figure size 300x400 with 1 Axes>"
      ]
     },
     "metadata": {},
     "output_type": "display_data"
    }
   ],
   "source": [
    "from statsmodels.graphics.factorplots import interaction_plot\n",
    "import matplotlib.pyplot as plt\n",
    "\n",
    "cyl = mtcars['cyl']\n",
    "am = mtcars['am']\n",
    "mpg = mtcars['mpg']\n",
    "fig, ax = plt.subplots(figsize=(3, 4))\n",
    "fig = interaction_plot(cyl, am, mpg, colors=['red', 'blue'], markers=['D', '^'], ms=10, ax=ax)"
   ]
  },
  {
   "cell_type": "markdown",
   "metadata": {},
   "source": [
    "- 교호작용 검정에 대한 가장 확실한 방법은 위의 그래프를 확인하는 방법이다.\n",
    "- 만약 두 선이 교차하고 있을 경우 두 변수간에는 상호작용이 존재한다고 해석한다."
   ]
  }
 ],
 "metadata": {
  "kernelspec": {
   "display_name": "Python 3",
   "language": "python",
   "name": "python3"
  },
  "language_info": {
   "codemirror_mode": {
    "name": "ipython",
    "version": 3
   },
   "file_extension": ".py",
   "mimetype": "text/x-python",
   "name": "python",
   "nbconvert_exporter": "python",
   "pygments_lexer": "ipython3",
   "version": "3.8.0"
  }
 },
 "nbformat": 4,
 "nbformat_minor": 2
}
